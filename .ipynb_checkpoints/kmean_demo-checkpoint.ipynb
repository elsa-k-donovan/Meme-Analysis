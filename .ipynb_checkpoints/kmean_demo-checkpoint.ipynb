{
 "cells": [
  {
   "cell_type": "code",
   "execution_count": 2,
   "metadata": {},
   "outputs": [],
   "source": [
    "import pandas as pd\n",
    "import random\n",
    "import matplotlib.pyplot as plt\n",
    "import copy\n",
    "import numpy as np"
   ]
  },
  {
   "cell_type": "code",
   "execution_count": 3,
   "metadata": {},
   "outputs": [],
   "source": [
    "# reference: https://benalexkeen.com/k-means-clustering-in-python/"
   ]
  },
  {
   "cell_type": "code",
   "execution_count": 4,
   "metadata": {},
   "outputs": [],
   "source": [
    "### Initialisation\n",
    "df_features = pd.read_json ('/Users/hedayattabesh/Documents/scripts/Meme-Analysis/memes-beta-features.json')\n",
    "\n",
    "# Testing\n",
    "df_features = df_features.head(100)"
   ]
  },
  {
   "cell_type": "code",
   "execution_count": 5,
   "metadata": {},
   "outputs": [
    {
     "data": {
      "text/html": [
       "<div>\n",
       "<style scoped>\n",
       "    .dataframe tbody tr th:only-of-type {\n",
       "        vertical-align: middle;\n",
       "    }\n",
       "\n",
       "    .dataframe tbody tr th {\n",
       "        vertical-align: top;\n",
       "    }\n",
       "\n",
       "    .dataframe thead th {\n",
       "        text-align: right;\n",
       "    }\n",
       "</style>\n",
       "<table border=\"1\" class=\"dataframe\">\n",
       "  <thead>\n",
       "    <tr style=\"text-align: right;\">\n",
       "      <th></th>\n",
       "      <th>X</th>\n",
       "      <th>Y</th>\n",
       "      <th>path</th>\n",
       "    </tr>\n",
       "  </thead>\n",
       "  <tbody>\n",
       "    <tr>\n",
       "      <th>0</th>\n",
       "      <td>0.574598</td>\n",
       "      <td>0.195812</td>\n",
       "      <td>/Users/hedayattabesh/Documents/scripts/Meme-An...</td>\n",
       "    </tr>\n",
       "    <tr>\n",
       "      <th>1</th>\n",
       "      <td>0.708925</td>\n",
       "      <td>0.276204</td>\n",
       "      <td>/Users/hedayattabesh/Documents/scripts/Meme-An...</td>\n",
       "    </tr>\n",
       "    <tr>\n",
       "      <th>2</th>\n",
       "      <td>0.526939</td>\n",
       "      <td>0.496875</td>\n",
       "      <td>/Users/hedayattabesh/Documents/scripts/Meme-An...</td>\n",
       "    </tr>\n",
       "    <tr>\n",
       "      <th>3</th>\n",
       "      <td>0.546661</td>\n",
       "      <td>0.169126</td>\n",
       "      <td>/Users/hedayattabesh/Documents/scripts/Meme-An...</td>\n",
       "    </tr>\n",
       "    <tr>\n",
       "      <th>4</th>\n",
       "      <td>0.560327</td>\n",
       "      <td>0.159495</td>\n",
       "      <td>/Users/hedayattabesh/Documents/scripts/Meme-An...</td>\n",
       "    </tr>\n",
       "    <tr>\n",
       "      <th>...</th>\n",
       "      <td>...</td>\n",
       "      <td>...</td>\n",
       "      <td>...</td>\n",
       "    </tr>\n",
       "    <tr>\n",
       "      <th>95</th>\n",
       "      <td>0.577617</td>\n",
       "      <td>0.160737</td>\n",
       "      <td>/Users/hedayattabesh/Documents/scripts/Meme-An...</td>\n",
       "    </tr>\n",
       "    <tr>\n",
       "      <th>96</th>\n",
       "      <td>0.286176</td>\n",
       "      <td>0.928965</td>\n",
       "      <td>/Users/hedayattabesh/Documents/scripts/Meme-An...</td>\n",
       "    </tr>\n",
       "    <tr>\n",
       "      <th>97</th>\n",
       "      <td>0.290230</td>\n",
       "      <td>0.502075</td>\n",
       "      <td>/Users/hedayattabesh/Documents/scripts/Meme-An...</td>\n",
       "    </tr>\n",
       "    <tr>\n",
       "      <th>98</th>\n",
       "      <td>0.321960</td>\n",
       "      <td>0.561398</td>\n",
       "      <td>/Users/hedayattabesh/Documents/scripts/Meme-An...</td>\n",
       "    </tr>\n",
       "    <tr>\n",
       "      <th>99</th>\n",
       "      <td>0.061749</td>\n",
       "      <td>0.146208</td>\n",
       "      <td>/Users/hedayattabesh/Documents/scripts/Meme-An...</td>\n",
       "    </tr>\n",
       "  </tbody>\n",
       "</table>\n",
       "<p>100 rows × 3 columns</p>\n",
       "</div>"
      ],
      "text/plain": [
       "           X         Y                                               path\n",
       "0   0.574598  0.195812  /Users/hedayattabesh/Documents/scripts/Meme-An...\n",
       "1   0.708925  0.276204  /Users/hedayattabesh/Documents/scripts/Meme-An...\n",
       "2   0.526939  0.496875  /Users/hedayattabesh/Documents/scripts/Meme-An...\n",
       "3   0.546661  0.169126  /Users/hedayattabesh/Documents/scripts/Meme-An...\n",
       "4   0.560327  0.159495  /Users/hedayattabesh/Documents/scripts/Meme-An...\n",
       "..       ...       ...                                                ...\n",
       "95  0.577617  0.160737  /Users/hedayattabesh/Documents/scripts/Meme-An...\n",
       "96  0.286176  0.928965  /Users/hedayattabesh/Documents/scripts/Meme-An...\n",
       "97  0.290230  0.502075  /Users/hedayattabesh/Documents/scripts/Meme-An...\n",
       "98  0.321960  0.561398  /Users/hedayattabesh/Documents/scripts/Meme-An...\n",
       "99  0.061749  0.146208  /Users/hedayattabesh/Documents/scripts/Meme-An...\n",
       "\n",
       "[100 rows x 3 columns]"
      ]
     },
     "execution_count": 5,
     "metadata": {},
     "output_type": "execute_result"
    }
   ],
   "source": [
    "# create df with X, Y cordinates <- this will make it easier to handle the cordinates\n",
    "feature_cordinates = pd.DataFrame(columns=['X','Y','path'])\n",
    "for index, row in df_features.iterrows():\n",
    "    new_row = {'X':row[1][0], 'Y':row[1][1], 'path':row[0]}\n",
    "    feature_cordinates = feature_cordinates.append(new_row, ignore_index=True)\n",
    "\n",
    "feature_cordinates"
   ]
  },
  {
   "cell_type": "code",
   "execution_count": 6,
   "metadata": {},
   "outputs": [
    {
     "data": {
      "text/plain": [
       "{1: [0.640712, 0.40806],\n",
       " 2: [0.622066, 0.657288],\n",
       " 3: [0.475811, 0.015808],\n",
       " 4: [0.229, 0.860917]}"
      ]
     },
     "execution_count": 6,
     "metadata": {},
     "output_type": "execute_result"
    }
   ],
   "source": [
    "# lets randomize the centroids\n",
    "# this may need optimization\n",
    "k = 4\n",
    "centroids = {\n",
    "    i+1: [round(random.uniform(0, 1), 6), round(random.uniform(0, 1), 6)]\n",
    "    for i in range(k)\n",
    "}\n",
    "\n",
    "# Testing\n",
    "centroids"
   ]
  },
  {
   "cell_type": "code",
   "execution_count": 7,
   "metadata": {},
   "outputs": [
    {
     "data": {
      "image/png": "[encoded data removed]",
      "text/plain": [
       "<Figure size 360x360 with 1 Axes>"
      ]
     },
     "metadata": {
      "needs_background": "light"
     },
     "output_type": "display_data"
    }
   ],
   "source": [
    "fig = plt.figure(figsize=(5, 5))\n",
    "plt.scatter(feature_cordinates['X'], feature_cordinates['Y'], color='k')\n",
    "colmap = {1: 'r', 2: 'g', 3: 'b', 4:'y'}\n",
    "for i in centroids.keys():\n",
    "    plt.scatter(*centroids[i], color=colmap[i])\n",
    "plt.show()"
   ]
  },
  {
   "cell_type": "code",
   "execution_count": 8,
   "metadata": {},
   "outputs": [],
   "source": [
    "### Assignment Stage\n",
    "def assignment(df, centroids):\n",
    "    for i in centroids.keys():\n",
    "        # sqrt((x1 - x2)^2 - (y1 - y2)^2)\n",
    "        df['distance_from_{}'.format(i)] = (\n",
    "            np.sqrt(\n",
    "                (df['X'] - centroids[i][0]) ** 2\n",
    "                + (df['Y'] - centroids[i][1]) ** 2\n",
    "            )\n",
    "        )\n",
    "    centroid_distance_cols = ['distance_from_{}'.format(i) for i in centroids.keys()]\n",
    "    df['closest'] = df.loc[:, centroid_distance_cols].idxmin(axis=1)\n",
    "    df['closest'] = df['closest'].map(lambda x: int(x.lstrip('distance_from_')))\n",
    "    df['color'] = df['closest'].map(lambda x: colmap[x])\n",
    "    return df"
   ]
  },
  {
   "cell_type": "code",
   "execution_count": 9,
   "metadata": {},
   "outputs": [
    {
     "data": {
      "text/html": [
       "<div>\n",
       "<style scoped>\n",
       "    .dataframe tbody tr th:only-of-type {\n",
       "        vertical-align: middle;\n",
       "    }\n",
       "\n",
       "    .dataframe tbody tr th {\n",
       "        vertical-align: top;\n",
       "    }\n",
       "\n",
       "    .dataframe thead th {\n",
       "        text-align: right;\n",
       "    }\n",
       "</style>\n",
       "<table border=\"1\" class=\"dataframe\">\n",
       "  <thead>\n",
       "    <tr style=\"text-align: right;\">\n",
       "      <th></th>\n",
       "      <th>X</th>\n",
       "      <th>Y</th>\n",
       "      <th>path</th>\n",
       "      <th>distance_from_1</th>\n",
       "      <th>distance_from_2</th>\n",
       "      <th>distance_from_3</th>\n",
       "      <th>distance_from_4</th>\n",
       "      <th>closest</th>\n",
       "      <th>color</th>\n",
       "    </tr>\n",
       "  </thead>\n",
       "  <tbody>\n",
       "    <tr>\n",
       "      <th>0</th>\n",
       "      <td>0.574598</td>\n",
       "      <td>0.195812</td>\n",
       "      <td>/Users/hedayattabesh/Documents/scripts/Meme-An...</td>\n",
       "      <td>0.222307</td>\n",
       "      <td>0.463911</td>\n",
       "      <td>0.205330</td>\n",
       "      <td>0.749535</td>\n",
       "      <td>3</td>\n",
       "      <td>b</td>\n",
       "    </tr>\n",
       "    <tr>\n",
       "      <th>1</th>\n",
       "      <td>0.708925</td>\n",
       "      <td>0.276204</td>\n",
       "      <td>/Users/hedayattabesh/Documents/scripts/Meme-An...</td>\n",
       "      <td>0.148455</td>\n",
       "      <td>0.390857</td>\n",
       "      <td>0.349497</td>\n",
       "      <td>0.756450</td>\n",
       "      <td>1</td>\n",
       "      <td>r</td>\n",
       "    </tr>\n",
       "    <tr>\n",
       "      <th>2</th>\n",
       "      <td>0.526939</td>\n",
       "      <td>0.496875</td>\n",
       "      <td>/Users/hedayattabesh/Documents/scripts/Meme-An...</td>\n",
       "      <td>0.144335</td>\n",
       "      <td>0.186498</td>\n",
       "      <td>0.483777</td>\n",
       "      <td>0.470419</td>\n",
       "      <td>1</td>\n",
       "      <td>r</td>\n",
       "    </tr>\n",
       "    <tr>\n",
       "      <th>3</th>\n",
       "      <td>0.546661</td>\n",
       "      <td>0.169126</td>\n",
       "      <td>/Users/hedayattabesh/Documents/scripts/Meme-An...</td>\n",
       "      <td>0.256778</td>\n",
       "      <td>0.493952</td>\n",
       "      <td>0.168897</td>\n",
       "      <td>0.761239</td>\n",
       "      <td>3</td>\n",
       "      <td>b</td>\n",
       "    </tr>\n",
       "    <tr>\n",
       "      <th>4</th>\n",
       "      <td>0.560327</td>\n",
       "      <td>0.159495</td>\n",
       "      <td>/Users/hedayattabesh/Documents/scripts/Meme-An...</td>\n",
       "      <td>0.261240</td>\n",
       "      <td>0.501607</td>\n",
       "      <td>0.166700</td>\n",
       "      <td>0.775738</td>\n",
       "      <td>3</td>\n",
       "      <td>b</td>\n",
       "    </tr>\n",
       "    <tr>\n",
       "      <th>...</th>\n",
       "      <td>...</td>\n",
       "      <td>...</td>\n",
       "      <td>...</td>\n",
       "      <td>...</td>\n",
       "      <td>...</td>\n",
       "      <td>...</td>\n",
       "      <td>...</td>\n",
       "      <td>...</td>\n",
       "      <td>...</td>\n",
       "    </tr>\n",
       "    <tr>\n",
       "      <th>95</th>\n",
       "      <td>0.577617</td>\n",
       "      <td>0.160737</td>\n",
       "      <td>/Users/hedayattabesh/Documents/scripts/Meme-An...</td>\n",
       "      <td>0.255245</td>\n",
       "      <td>0.498537</td>\n",
       "      <td>0.177112</td>\n",
       "      <td>0.782168</td>\n",
       "      <td>3</td>\n",
       "      <td>b</td>\n",
       "    </tr>\n",
       "    <tr>\n",
       "      <th>96</th>\n",
       "      <td>0.286176</td>\n",
       "      <td>0.928965</td>\n",
       "      <td>/Users/hedayattabesh/Documents/scripts/Meme-An...</td>\n",
       "      <td>0.630109</td>\n",
       "      <td>0.432007</td>\n",
       "      <td>0.932639</td>\n",
       "      <td>0.088880</td>\n",
       "      <td>4</td>\n",
       "      <td>y</td>\n",
       "    </tr>\n",
       "    <tr>\n",
       "      <th>97</th>\n",
       "      <td>0.290230</td>\n",
       "      <td>0.502075</td>\n",
       "      <td>/Users/hedayattabesh/Documents/scripts/Meme-An...</td>\n",
       "      <td>0.362873</td>\n",
       "      <td>0.366342</td>\n",
       "      <td>0.520477</td>\n",
       "      <td>0.364028</td>\n",
       "      <td>1</td>\n",
       "      <td>r</td>\n",
       "    </tr>\n",
       "    <tr>\n",
       "      <th>98</th>\n",
       "      <td>0.321960</td>\n",
       "      <td>0.561398</td>\n",
       "      <td>/Users/hedayattabesh/Documents/scripts/Meme-An...</td>\n",
       "      <td>0.353717</td>\n",
       "      <td>0.315053</td>\n",
       "      <td>0.566868</td>\n",
       "      <td>0.313613</td>\n",
       "      <td>4</td>\n",
       "      <td>y</td>\n",
       "    </tr>\n",
       "    <tr>\n",
       "      <th>99</th>\n",
       "      <td>0.061749</td>\n",
       "      <td>0.146208</td>\n",
       "      <td>/Users/hedayattabesh/Documents/scripts/Meme-An...</td>\n",
       "      <td>0.635425</td>\n",
       "      <td>0.758392</td>\n",
       "      <td>0.434110</td>\n",
       "      <td>0.734018</td>\n",
       "      <td>3</td>\n",
       "      <td>b</td>\n",
       "    </tr>\n",
       "  </tbody>\n",
       "</table>\n",
       "<p>100 rows × 9 columns</p>\n",
       "</div>"
      ],
      "text/plain": [
       "           X         Y                                               path  \\\n",
       "0   0.574598  0.195812  /Users/hedayattabesh/Documents/scripts/Meme-An...   \n",
       "1   0.708925  0.276204  /Users/hedayattabesh/Documents/scripts/Meme-An...   \n",
       "2   0.526939  0.496875  /Users/hedayattabesh/Documents/scripts/Meme-An...   \n",
       "3   0.546661  0.169126  /Users/hedayattabesh/Documents/scripts/Meme-An...   \n",
       "4   0.560327  0.159495  /Users/hedayattabesh/Documents/scripts/Meme-An...   \n",
       "..       ...       ...                                                ...   \n",
       "95  0.577617  0.160737  /Users/hedayattabesh/Documents/scripts/Meme-An...   \n",
       "96  0.286176  0.928965  /Users/hedayattabesh/Documents/scripts/Meme-An...   \n",
       "97  0.290230  0.502075  /Users/hedayattabesh/Documents/scripts/Meme-An...   \n",
       "98  0.321960  0.561398  /Users/hedayattabesh/Documents/scripts/Meme-An...   \n",
       "99  0.061749  0.146208  /Users/hedayattabesh/Documents/scripts/Meme-An...   \n",
       "\n",
       "    distance_from_1  distance_from_2  distance_from_3  distance_from_4  \\\n",
       "0          0.222307         0.463911         0.205330         0.749535   \n",
       "1          0.148455         0.390857         0.349497         0.756450   \n",
       "2          0.144335         0.186498         0.483777         0.470419   \n",
       "3          0.256778         0.493952         0.168897         0.761239   \n",
       "4          0.261240         0.501607         0.166700         0.775738   \n",
       "..              ...              ...              ...              ...   \n",
       "95         0.255245         0.498537         0.177112         0.782168   \n",
       "96         0.630109         0.432007         0.932639         0.088880   \n",
       "97         0.362873         0.366342         0.520477         0.364028   \n",
       "98         0.353717         0.315053         0.566868         0.313613   \n",
       "99         0.635425         0.758392         0.434110         0.734018   \n",
       "\n",
       "    closest color  \n",
       "0         3     b  \n",
       "1         1     r  \n",
       "2         1     r  \n",
       "3         3     b  \n",
       "4         3     b  \n",
       "..      ...   ...  \n",
       "95        3     b  \n",
       "96        4     y  \n",
       "97        1     r  \n",
       "98        4     y  \n",
       "99        3     b  \n",
       "\n",
       "[100 rows x 9 columns]"
      ]
     },
     "execution_count": 9,
     "metadata": {},
     "output_type": "execute_result"
    }
   ],
   "source": [
    "df_assigned = assignment(feature_cordinates, centroids)\n",
    "df_assigned"
   ]
  },
  {
   "cell_type": "code",
   "execution_count": 10,
   "metadata": {},
   "outputs": [
    {
     "data": {
      "image/png": "[encoded data removed]",
      "text/plain": [
       "<Figure size 360x360 with 1 Axes>"
      ]
     },
     "metadata": {
      "needs_background": "light"
     },
     "output_type": "display_data"
    }
   ],
   "source": [
    "fig = plt.figure(figsize=(5, 5))\n",
    "plt.scatter(df_assigned['X'], df_assigned['Y'], color=df_assigned['color'], alpha=0.5, edgecolor='k')\n",
    "for i in centroids.keys():\n",
    "    plt.scatter(*centroids[i], color=colmap[i])\n",
    "plt.show()"
   ]
  },
  {
   "cell_type": "code",
   "execution_count": 11,
   "metadata": {},
   "outputs": [],
   "source": [
    "### Update Stage\n",
    "old_centroids = copy.deepcopy(centroids)\n",
    "\n",
    "def update(k):\n",
    "    for i in centroids.keys():\n",
    "        centroids[i][0] = np.mean(df_assigned[df_assigned['closest'] == i]['X'])\n",
    "        centroids[i][1] = np.mean(df_assigned[df_assigned['closest'] == i]['Y'])\n",
    "    return k\n",
    "\n",
    "centroids = update(centroids)"
   ]
  },
  {
   "cell_type": "code",
   "execution_count": 13,
   "metadata": {},
   "outputs": [
    {
     "data": {
      "image/png": "[encoded data removed]",
      "text/plain": [
       "<Figure size 360x360 with 1 Axes>"
      ]
     },
     "metadata": {
      "needs_background": "light"
     },
     "output_type": "display_data"
    }
   ],
   "source": [
    "## Repeat Assigment Stage\n",
    "df_assigned = assignment(df_assigned, centroids)\n",
    "\n",
    "# Plot results\n",
    "fig = plt.figure(figsize=(5, 5))\n",
    "plt.scatter(df_assigned['X'], df_assigned['Y'], color=df_assigned['color'], alpha=0.5, edgecolor='k')\n",
    "for i in centroids.keys():\n",
    "    plt.scatter(*centroids[i], color=colmap[i])"
   ]
  },
  {
   "cell_type": "code",
   "execution_count": 14,
   "metadata": {},
   "outputs": [
    {
     "data": {
      "image/png": "[encoded data removed]",
      "text/plain": [
       "<Figure size 360x360 with 1 Axes>"
      ]
     },
     "metadata": {
      "needs_background": "light"
     },
     "output_type": "display_data"
    }
   ],
   "source": [
    "# Continue until all assigned categories don't change any more\n",
    "while True:\n",
    "    closest_centroids = df_assigned['closest'].copy(deep=True)\n",
    "    centroids = update(centroids)\n",
    "    df_assigned = assignment(df_assigned, centroids)\n",
    "    if closest_centroids.equals(df_assigned['closest']):\n",
    "        break\n",
    "        \n",
    "fig = plt.figure(figsize=(5, 5))\n",
    "plt.scatter(df_assigned['X'], df_assigned['Y'], color=df_assigned['color'], alpha=0.5, edgecolor='k')\n",
    "for i in centroids.keys():\n",
    "    plt.scatter(*centroids[i], color=colmap[i])"
   ]
  },
  {
   "cell_type": "code",
   "execution_count": null,
   "metadata": {},
   "outputs": [],
   "source": [
    "values.index("
   ]
  }
 ],
 "metadata": {
  "kernelspec": {
   "display_name": "Python 3",
   "language": "python",
   "name": "python3"
  },
  "language_info": {
   "codemirror_mode": {
    "name": "ipython",
    "version": 3
   },
   "file_extension": ".py",
   "mimetype": "text/x-python",
   "name": "python",
   "nbconvert_exporter": "python",
   "pygments_lexer": "ipython3",
   "version": "3.8.3"
  }
 },
 "nbformat": 4,
 "nbformat_minor": 4
}
