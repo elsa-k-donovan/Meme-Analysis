{
 "cells": [
  {
   "cell_type": "code",
   "execution_count": 10,
   "metadata": {},
   "outputs": [],
   "source": [
    "# text from the images\n",
    "# people in the images\n",
    "# color histogram (percent RGB)\n",
    "# origin\n",
    "# other meta data?"
   ]
  },
  {
   "cell_type": "code",
   "execution_count": 69,
   "metadata": {},
   "outputs": [],
   "source": [
    "img_path = '/Users/hedayattabesh/Documents/test3.jpg'"
   ]
  },
  {
   "cell_type": "code",
   "execution_count": 83,
   "metadata": {},
   "outputs": [],
   "source": [
    "### text from the images ###\n",
    "import pytesseract\n",
    "import numpy as np\n",
    "import cv2\n",
    "import sys"
   ]
  },
  {
   "cell_type": "code",
   "execution_count": 84,
   "metadata": {},
   "outputs": [],
   "source": [
    "img = cv2.imread(img_path)"
   ]
  },
  {
   "cell_type": "code",
   "execution_count": 85,
   "metadata": {},
   "outputs": [],
   "source": [
    "# make the image into a binrary\n",
    "gray = cv2.cvtColor(img, cv2.COLOR_RGB2GRAY)\n",
    "gray, img_bin = cv2.threshold(gray,128,255,cv2.THRESH_BINARY | cv2.THRESH_OTSU)\n",
    "gray = cv2.bitwise_not(img_bin)"
   ]
  },
  {
   "cell_type": "code",
   "execution_count": 86,
   "metadata": {},
   "outputs": [],
   "source": [
    "# lets reduce noise around the text\n",
    "kernel = np.ones((2, 1), np.uint8)\n",
    "# img = cv2.erode(gray, kernel, iterations=1)\n",
    "img = cv2.dilate(img, kernel, iterations=1)"
   ]
  },
  {
   "cell_type": "code",
   "execution_count": 87,
   "metadata": {
    "collapsed": true
   },
   "outputs": [
    {
     "name": "stdout",
     "output_type": "stream",
     "text": [
      "OUTPUT: the Anti- Shitposting Cross\n",
      "\n",
      "Safely train your children to keep their hands off the dangerous QUIS\n",
      "Papoose Cross and Arm Immobilizer work together to safely\n",
      "secure a self-ipo-stiny\n",
      "\n",
      "5+\n",
      "\n",
      "years\n",
      "\n",
      "    \n",
      "     \n",
      "\n",
      "* Adjustable canvas straps with Velcro\n",
      "\n",
      "* Adjustable head strap incorporated into backboard\n",
      "* Optional arm immobilizing accessory slides\n",
      "\n",
      " \n",
      "\f",
      "\n"
     ]
    }
   ],
   "source": [
    "# now lets extract the text from our image!\n",
    "out_below = pytesseract.image_to_string(img)\n",
    "print(\"OUTPUT:\", out_below)\n",
    "\n",
    "# its not perfect. The text needs to be clearly written to be recognized"
   ]
  },
  {
   "cell_type": "code",
   "execution_count": 93,
   "metadata": {},
   "outputs": [
    {
     "data": {
      "text/plain": [
       "[False]"
      ]
     },
     "execution_count": 93,
     "metadata": {},
     "output_type": "execute_result"
    }
   ],
   "source": [
    "### people in the images ###\n",
    "import face_recognition\n",
    "\n",
    "img_path = '/Users/hedayattabesh/Documents/'\n",
    "\n",
    "known_image = face_recognition.load_image_file(img_path + \"taylor_swift.jpg\")\n",
    "unknown_image = face_recognition.load_image_file(img_path + \"taylor_test.png\")\n",
    "\n",
    "biden_encoding = face_recognition.face_encodings(known_image)[0]\n",
    "unknown_encoding = face_recognition.face_encodings(unknown_image)[0]\n",
    "\n",
    "results = face_recognition.compare_faces([biden_encoding], unknown_encoding)\n",
    "results\n",
    "\n",
    "\n",
    "# it is not perfect. It will recognise the face when it is very obvious otherwise it misses it"
   ]
  },
  {
   "cell_type": "code",
   "execution_count": null,
   "metadata": {},
   "outputs": [],
   "source": [
    "### color histogram (percent RGB) ###\n"
   ]
  },
  {
   "cell_type": "code",
   "execution_count": null,
   "metadata": {},
   "outputs": [],
   "source": []
  },
  {
   "cell_type": "code",
   "execution_count": null,
   "metadata": {},
   "outputs": [],
   "source": [
    "### other ###\n",
    "# https://www.codementor.io/@innat_2k14/image-data-analysis-using-numpy-opencv-part-1-kfadbafx6\n",
    "print('Type of the image : ' , type(pic))\n",
    "print()\n",
    "print('Shape of the image : {}'.format(pic.shape))\n",
    "print('Image Hight {}'.format(pic.shape[0]))\n",
    "print('Image Width {}'.format(pic.shape[1]))\n",
    "print('Dimension of Image {}'.format(pic.ndim))"
   ]
  }
 ],
 "metadata": {
  "kernelspec": {
   "display_name": "python-env",
   "language": "python",
   "name": "python-env"
  },
  "language_info": {
   "codemirror_mode": {
    "name": "ipython",
    "version": 3
   },
   "file_extension": ".py",
   "mimetype": "text/x-python",
   "name": "python",
   "nbconvert_exporter": "python",
   "pygments_lexer": "ipython3",
   "version": "3.8.3"
  }
 },
 "nbformat": 4,
 "nbformat_minor": 4
}
