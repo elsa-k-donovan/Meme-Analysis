{
 "cells": [
  {
   "cell_type": "code",
   "execution_count": 50,
   "metadata": {},
   "outputs": [],
   "source": [
    "import pandas as pd\n",
    "from sklearn.cluster import KMeans\n",
    "from sklearn.metrics import silhouette_samples, silhouette_score\n",
    "import matplotlib.pyplot as plt\n",
    "import numpy as np\n",
    "from kneebow.rotor import Rotor"
   ]
  },
  {
   "cell_type": "code",
   "execution_count": 51,
   "metadata": {},
   "outputs": [],
   "source": [
    "# reference: https://benalexkeen.com/k-means-clustering-in-python/"
   ]
  },
  {
   "cell_type": "code",
   "execution_count": 52,
   "metadata": {},
   "outputs": [],
   "source": [
    "### Initialisation\n",
    "df_features = pd.read_json ('/Users/hedayattabesh/Documents/scripts/Meme-Analysis/memes-beta-features.json')\n",
    "output_file_name = \"memes-clustered-features.json\"\n",
    "# Testing\n",
    "# df_features = df_features.head(100)"
   ]
  },
  {
   "cell_type": "code",
   "execution_count": 53,
   "metadata": {},
   "outputs": [],
   "source": [
    "# create df with X, Y cordinates <- this will make it easier to handle the cordinates\n",
    "feature_cordinates = pd.DataFrame(columns=['X','Y','path'])\n",
    "for index, row in df_features.iterrows():\n",
    "    new_row = {'X':row[1][0], 'Y':row[1][1], 'path':row[0]}\n",
    "    feature_cordinates = feature_cordinates.append(new_row, ignore_index=True)"
   ]
  },
  {
   "cell_type": "code",
   "execution_count": 55,
   "metadata": {},
   "outputs": [],
   "source": [
    "# now that we have a feel for it lets calculate some satistics \n",
    "kmean_clusters = []\n",
    "wcss = []\n",
    "silhouette_avg_scores = []\n",
    "for k in range(3, 20):\n",
    "    kmeans = KMeans(n_clusters=k)\n",
    "    kmeans.fit(feature_cordinates[['X', 'Y']])\n",
    "    labels = kmeans.predict(feature_cordinates[['X', 'Y']])\n",
    "    kmean_clusters.append(kmeans)\n",
    "    wcss.append(kmeans.inertia_)\n",
    "    silhouette_avg_scores.append(silhouette_score(feature_cordinates[['X', 'Y']], labels))"
   ]
  },
  {
   "cell_type": "code",
   "execution_count": 56,
   "metadata": {},
   "outputs": [],
   "source": [
    "# The total WSS measures the compactness of the clustering and we want it to be as small as possible.\n",
    "# We are looking for where the curve bends\n",
    "# Set up wcss to find elbow\n",
    "new_wcss = []\n",
    "for i, temp in enumerate(wcss):\n",
    "    new_wcss.append([i+3, temp])\n",
    "\n",
    "# Visualization\n",
    "# plt.plot(range(3, 20), wcss)\n",
    "# plt.title('Elbow Method')\n",
    "# plt.xlabel('Number of clusters')\n",
    "# plt.ylabel('WCSS')\n",
    "# plt.show()"
   ]
  },
  {
   "cell_type": "code",
   "execution_count": 66,
   "metadata": {
    "scrolled": true
   },
   "outputs": [],
   "source": [
    "# determines how well each object lies within its cluster\n",
    "# The location of the maximum is considered as the appropriate number of clusters.\n",
    "k_silhouette = np.argmax(silhouette_avg_scores)+3\n",
    "\n",
    "# visualization\n",
    "# plt.plot(range(3, 20), silhouette_avg_scores)\n",
    "# plt.title('Average silhouette method')\n",
    "# plt.xlabel('Number of clusters')\n",
    "# plt.ylabel('Average silhouette')\n",
    "# plt.show()"
   ]
  },
  {
   "cell_type": "code",
   "execution_count": 67,
   "metadata": {},
   "outputs": [],
   "source": [
    "# get elbow of wcss\n",
    "rotor = Rotor()\n",
    "rotor.fit_rotate(new_wcss)\n",
    "k_wcss = rotor.get_elbow_index()+3"
   ]
  },
  {
   "cell_type": "code",
   "execution_count": 68,
   "metadata": {},
   "outputs": [],
   "source": [
    "k = int(np.floor((k_wcss+k_silhouette/2)))"
   ]
  },
  {
   "cell_type": "code",
   "execution_count": 69,
   "metadata": {},
   "outputs": [],
   "source": [
    "# now lets do the same thing but with the libraries\n",
    "kmeans = KMeans(n_clusters=k)\n",
    "kmeans.fit(feature_cordinates[['X', 'Y']])\n",
    "labels = kmeans.predict(feature_cordinates[['X', 'Y']])\n",
    "centroids = kmeans.cluster_centers_"
   ]
  },
  {
   "cell_type": "code",
   "execution_count": 73,
   "metadata": {},
   "outputs": [],
   "source": [
    "# lets save to a new json\n",
    "feature_cordinates['cluster'] = labels\n",
    "feature_cordinates.to_json(output_file_name)\n"
   ]
  },
  {
   "cell_type": "code",
   "execution_count": 72,
   "metadata": {},
   "outputs": [],
   "source": [
    "# visualization\n",
    "# colmap = {0: 'r', 1: 'g', 2: 'b', 3:'y', 4:'c', 5:'m', 6:'tab:brown', 7:'tab:purple', 8:'peru', 9:'slategrey'}\n",
    "# fig = plt.figure(figsize=(5, 5))\n",
    "# colors = map(lambda x: colmap[x], labels)\n",
    "\n",
    "# plt.scatter(feature_cordinates['X'], feature_cordinates['Y'], color=list(colors), alpha=0.5, edgecolor='k')\n",
    "# for idx, centroid in enumerate(centroids):\n",
    "#     plt.scatter(*centroid, color=colmap[idx])"
   ]
  },
  {
   "cell_type": "code",
   "execution_count": null,
   "metadata": {},
   "outputs": [],
   "source": []
  }
 ],
 "metadata": {
  "kernelspec": {
   "display_name": "Python 3",
   "language": "python",
   "name": "python3"
  },
  "language_info": {
   "codemirror_mode": {
    "name": "ipython",
    "version": 3
   },
   "file_extension": ".py",
   "mimetype": "text/x-python",
   "name": "python",
   "nbconvert_exporter": "python",
   "pygments_lexer": "ipython3",
   "version": "3.8.3"
  }
 },
 "nbformat": 4,
 "nbformat_minor": 4
}
