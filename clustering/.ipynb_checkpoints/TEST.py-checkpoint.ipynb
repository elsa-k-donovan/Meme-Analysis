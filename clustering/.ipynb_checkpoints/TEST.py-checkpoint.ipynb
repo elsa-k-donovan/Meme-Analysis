{
 "cells": [
  {
   "cell_type": "code",
   "execution_count": 2,
   "metadata": {},
   "outputs": [],
   "source": [
    "import pandas as pd\n",
    "from sklearn.cluster import KMeans, DBSCAN"
   ]
  },
  {
   "cell_type": "code",
   "execution_count": 3,
   "metadata": {},
   "outputs": [],
   "source": [
    "file_loc = \"/Users/hedayattabesh/Documents/Data\""
   ]
  },
  {
   "cell_type": "code",
   "execution_count": 14,
   "metadata": {},
   "outputs": [],
   "source": [
    "### Initialisation\n",
    "df_features_norm = pd.read_json (file_loc + '/norm-memes-beta-features-partial.json')\n",
    "df_features = pd.read_json (file_loc + '/memes-beta-features-partial.json')\n",
    "output_file_name = file_loc + \"/memes-clustered-features-partial.json\""
   ]
  },
  {
   "cell_type": "code",
   "execution_count": 5,
   "metadata": {},
   "outputs": [],
   "source": [
    "## norm\n",
    "# create df with X, Y cordinates <- this will make it easier to handle the cordinates\n",
    "feature_cordinates_norm = pd.DataFrame(columns=['X','Y','path'])\n",
    "for index, row in df_features_norm.iterrows():\n",
    "    new_row = {'X':row[1][0], 'Y':row[1][1], 'path':row[0]}\n",
    "    feature_cordinates_norm = feature_cordinates_norm.append(new_row, ignore_index=True)"
   ]
  },
  {
   "cell_type": "code",
   "execution_count": 6,
   "metadata": {},
   "outputs": [],
   "source": [
    "## not norm\n",
    "feature_cordinates = pd.DataFrame(columns=['X','Y','path'])\n",
    "for index, row in df_features.iterrows():\n",
    "    new_row = {'X':row[1][0], 'Y':row[1][1], 'path':row[0]}\n",
    "    feature_cordinates = feature_cordinates.append(new_row, ignore_index=True)"
   ]
  },
  {
   "cell_type": "code",
   "execution_count": 10,
   "metadata": {},
   "outputs": [
    {
     "data": {
      "text/plain": [
       "166"
      ]
     },
     "execution_count": 10,
     "metadata": {},
     "output_type": "execute_result"
    }
   ],
   "source": [
    "# now lets figure out the number of cluster we need by using DBSCAN with non-normalized data\n",
    "clustering = DBSCAN(eps=.5, min_samples=4).fit(feature_cordinates[['X', 'Y']])\n",
    "k = len(set(clustering.labels_))\n"
   ]
  },
  {
   "cell_type": "code",
   "execution_count": 11,
   "metadata": {},
   "outputs": [],
   "source": [
    "# now we can use the K to run the k-mean algorithm with that many clusters\n",
    "kmeans = KMeans(n_clusters=k)\n",
    "kmeans.fit(feature_cordinates_norm[['X', 'Y']])\n",
    "labels = kmeans.predict(feature_cordinates_norm[['X', 'Y']])\n",
    "centroids = kmeans.cluster_centers_"
   ]
  },
  {
   "cell_type": "code",
   "execution_count": 15,
   "metadata": {},
   "outputs": [],
   "source": [
    "# lets save to a new json\n",
    "feature_cordinates_norm['cluster'] = labels\n",
    "feature_cordinates_norm.to_csv(output_file_name, index=False)"
   ]
  },
  {
   "cell_type": "code",
   "execution_count": 13,
   "metadata": {},
   "outputs": [
    {
     "data": {
      "text/plain": [
       "92324"
      ]
     },
     "execution_count": 13,
     "metadata": {},
     "output_type": "execute_result"
    }
   ],
   "source": []
  },
  {
   "cell_type": "code",
   "execution_count": null,
   "metadata": {},
   "outputs": [],
   "source": []
  },
  {
   "cell_type": "code",
   "execution_count": null,
   "metadata": {},
   "outputs": [],
   "source": []
  }
 ],
 "metadata": {
  "kernelspec": {
   "display_name": "Python 3",
   "language": "python",
   "name": "python3"
  },
  "language_info": {
   "codemirror_mode": {
    "name": "ipython",
    "version": 3
   },
   "file_extension": ".py",
   "mimetype": "text/x-python",
   "name": "python",
   "nbconvert_exporter": "python",
   "pygments_lexer": "ipython3",
   "version": "3.8.3"
  }
 },
 "nbformat": 4,
 "nbformat_minor": 4
}
